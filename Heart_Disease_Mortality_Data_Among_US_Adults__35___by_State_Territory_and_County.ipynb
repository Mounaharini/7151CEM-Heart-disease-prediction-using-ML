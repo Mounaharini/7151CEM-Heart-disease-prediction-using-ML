{
 "cells": [
  {
   "cell_type": "markdown",
   "id": "ff7f17cc",
   "metadata": {},
   "source": [
    "# Using Different Libraries"
   ]
  },
  {
   "cell_type": "code",
   "execution_count": 25,
   "id": "09596bd6",
   "metadata": {},
   "outputs": [],
   "source": [
    "import pandas as pd\n",
    "import numpy as np\n",
    "import matplotlib.pyplot as plt\n",
    "%matplotlib inline\n",
    "import seaborn as sns\n",
    "import plotly.express as px\n",
    "from sklearn.preprocessing import LabelEncoder\n",
    "lab = LabelEncoder()\n",
    "from sklearn.model_selection import train_test_split\n",
    "from sklearn.tree import DecisionTreeClassifier\n",
    "from sklearn.naive_bayes import GaussianNB\n",
    "from sklearn.metrics import confusion_matrix\n",
    "from sklearn.metrics import classification_report\n",
    "from sklearn.metrics import accuracy_score\n",
    "import warnings\n",
    "warnings.filterwarnings(\"ignore\")"
   ]
  },
  {
   "cell_type": "markdown",
   "id": "a3e20000",
   "metadata": {},
   "source": [
    "# Loading of data"
   ]
  },
  {
   "cell_type": "code",
   "execution_count": 2,
   "id": "050200dd",
   "metadata": {},
   "outputs": [],
   "source": [
    "HeartDisease = pd.read_csv('./Heart_Disease_Mortality_Data_Among_US_Adults__35___by_State_Territory_and_County (2).csv')"
   ]
  },
  {
   "cell_type": "code",
   "execution_count": 3,
   "id": "6ea1834d",
   "metadata": {},
   "outputs": [
    {
     "data": {
      "text/html": [
       "<div>\n",
       "<style scoped>\n",
       "    .dataframe tbody tr th:only-of-type {\n",
       "        vertical-align: middle;\n",
       "    }\n",
       "\n",
       "    .dataframe tbody tr th {\n",
       "        vertical-align: top;\n",
       "    }\n",
       "\n",
       "    .dataframe thead th {\n",
       "        text-align: right;\n",
       "    }\n",
       "</style>\n",
       "<table border=\"1\" class=\"dataframe\">\n",
       "  <thead>\n",
       "    <tr style=\"text-align: right;\">\n",
       "      <th></th>\n",
       "      <th>Year</th>\n",
       "      <th>LocationAbbr</th>\n",
       "      <th>LocationDesc</th>\n",
       "      <th>GeographicLevel</th>\n",
       "      <th>DataSource</th>\n",
       "      <th>Class</th>\n",
       "      <th>Topic</th>\n",
       "      <th>Data_Value</th>\n",
       "      <th>Data_Value_Unit</th>\n",
       "      <th>Data_Value_Type</th>\n",
       "      <th>Data_Value_Footnote_Symbol</th>\n",
       "      <th>Data_Value_Footnote</th>\n",
       "      <th>StratificationCategory1</th>\n",
       "      <th>Stratification1</th>\n",
       "      <th>StratificationCategory2</th>\n",
       "      <th>Stratification2</th>\n",
       "      <th>TopicID</th>\n",
       "      <th>LocationID</th>\n",
       "      <th>Location 1</th>\n",
       "    </tr>\n",
       "  </thead>\n",
       "  <tbody>\n",
       "    <tr>\n",
       "      <th>0</th>\n",
       "      <td>2014</td>\n",
       "      <td>AK</td>\n",
       "      <td>Aleutians East</td>\n",
       "      <td>County</td>\n",
       "      <td>NVSS</td>\n",
       "      <td>Cardiovascular Diseases</td>\n",
       "      <td>Heart Disease Mortality</td>\n",
       "      <td>105.3</td>\n",
       "      <td>per 100,000 population</td>\n",
       "      <td>Age-adjusted, Spatially Smoothed, 3-year Avera...</td>\n",
       "      <td>NaN</td>\n",
       "      <td>NaN</td>\n",
       "      <td>Gender</td>\n",
       "      <td>Overall</td>\n",
       "      <td>Race/Ethnicity</td>\n",
       "      <td>Overall</td>\n",
       "      <td>T2</td>\n",
       "      <td>2013</td>\n",
       "      <td>(55.440626, -161.962562)</td>\n",
       "    </tr>\n",
       "    <tr>\n",
       "      <th>1</th>\n",
       "      <td>2014</td>\n",
       "      <td>AK</td>\n",
       "      <td>Aleutians West</td>\n",
       "      <td>County</td>\n",
       "      <td>NVSS</td>\n",
       "      <td>Cardiovascular Diseases</td>\n",
       "      <td>Heart Disease Mortality</td>\n",
       "      <td>211.9</td>\n",
       "      <td>per 100,000 population</td>\n",
       "      <td>Age-adjusted, Spatially Smoothed, 3-year Avera...</td>\n",
       "      <td>NaN</td>\n",
       "      <td>NaN</td>\n",
       "      <td>Gender</td>\n",
       "      <td>Overall</td>\n",
       "      <td>Race/Ethnicity</td>\n",
       "      <td>Overall</td>\n",
       "      <td>T2</td>\n",
       "      <td>2016</td>\n",
       "      <td>(52.995403, -170.251538)</td>\n",
       "    </tr>\n",
       "    <tr>\n",
       "      <th>2</th>\n",
       "      <td>2014</td>\n",
       "      <td>AK</td>\n",
       "      <td>Anchorage</td>\n",
       "      <td>County</td>\n",
       "      <td>NVSS</td>\n",
       "      <td>Cardiovascular Diseases</td>\n",
       "      <td>Heart Disease Mortality</td>\n",
       "      <td>257.9</td>\n",
       "      <td>per 100,000 population</td>\n",
       "      <td>Age-adjusted, Spatially Smoothed, 3-year Avera...</td>\n",
       "      <td>NaN</td>\n",
       "      <td>NaN</td>\n",
       "      <td>Gender</td>\n",
       "      <td>Overall</td>\n",
       "      <td>Race/Ethnicity</td>\n",
       "      <td>Overall</td>\n",
       "      <td>T2</td>\n",
       "      <td>2020</td>\n",
       "      <td>(61.159049, -149.103905)</td>\n",
       "    </tr>\n",
       "    <tr>\n",
       "      <th>3</th>\n",
       "      <td>2014</td>\n",
       "      <td>AK</td>\n",
       "      <td>Bethel</td>\n",
       "      <td>County</td>\n",
       "      <td>NVSS</td>\n",
       "      <td>Cardiovascular Diseases</td>\n",
       "      <td>Heart Disease Mortality</td>\n",
       "      <td>351.6</td>\n",
       "      <td>per 100,000 population</td>\n",
       "      <td>Age-adjusted, Spatially Smoothed, 3-year Avera...</td>\n",
       "      <td>NaN</td>\n",
       "      <td>NaN</td>\n",
       "      <td>Gender</td>\n",
       "      <td>Overall</td>\n",
       "      <td>Race/Ethnicity</td>\n",
       "      <td>Overall</td>\n",
       "      <td>T2</td>\n",
       "      <td>2050</td>\n",
       "      <td>(60.924483, -159.749655)</td>\n",
       "    </tr>\n",
       "    <tr>\n",
       "      <th>4</th>\n",
       "      <td>2014</td>\n",
       "      <td>AK</td>\n",
       "      <td>Bristol Bay</td>\n",
       "      <td>County</td>\n",
       "      <td>NVSS</td>\n",
       "      <td>Cardiovascular Diseases</td>\n",
       "      <td>Heart Disease Mortality</td>\n",
       "      <td>NaN</td>\n",
       "      <td>per 100,000 population</td>\n",
       "      <td>Age-adjusted, Spatially Smoothed, 3-year Avera...</td>\n",
       "      <td>~</td>\n",
       "      <td>Insufficient Data</td>\n",
       "      <td>Gender</td>\n",
       "      <td>Overall</td>\n",
       "      <td>Race/Ethnicity</td>\n",
       "      <td>Overall</td>\n",
       "      <td>T2</td>\n",
       "      <td>2060</td>\n",
       "      <td>(58.754192, -156.694709)</td>\n",
       "    </tr>\n",
       "    <tr>\n",
       "      <th>...</th>\n",
       "      <td>...</td>\n",
       "      <td>...</td>\n",
       "      <td>...</td>\n",
       "      <td>...</td>\n",
       "      <td>...</td>\n",
       "      <td>...</td>\n",
       "      <td>...</td>\n",
       "      <td>...</td>\n",
       "      <td>...</td>\n",
       "      <td>...</td>\n",
       "      <td>...</td>\n",
       "      <td>...</td>\n",
       "      <td>...</td>\n",
       "      <td>...</td>\n",
       "      <td>...</td>\n",
       "      <td>...</td>\n",
       "      <td>...</td>\n",
       "      <td>...</td>\n",
       "      <td>...</td>\n",
       "    </tr>\n",
       "    <tr>\n",
       "      <th>59071</th>\n",
       "      <td>2014</td>\n",
       "      <td>TX</td>\n",
       "      <td>Lubbock County</td>\n",
       "      <td>County</td>\n",
       "      <td>NVSS</td>\n",
       "      <td>Cardiovascular Diseases</td>\n",
       "      <td>Heart Disease Mortality</td>\n",
       "      <td>NaN</td>\n",
       "      <td>per 100,000 population</td>\n",
       "      <td>Age-adjusted, Spatially Smoothed, 3-year Avera...</td>\n",
       "      <td>~</td>\n",
       "      <td>Insufficient Data</td>\n",
       "      <td>Gender</td>\n",
       "      <td>Male</td>\n",
       "      <td>Race/Ethnicity</td>\n",
       "      <td>Asian and Pacific Islander</td>\n",
       "      <td>T2</td>\n",
       "      <td>48303</td>\n",
       "      <td>(33.613697, -101.820878)</td>\n",
       "    </tr>\n",
       "    <tr>\n",
       "      <th>59072</th>\n",
       "      <td>2014</td>\n",
       "      <td>TX</td>\n",
       "      <td>Mitchell County</td>\n",
       "      <td>County</td>\n",
       "      <td>NVSS</td>\n",
       "      <td>Cardiovascular Diseases</td>\n",
       "      <td>Heart Disease Mortality</td>\n",
       "      <td>NaN</td>\n",
       "      <td>per 100,000 population</td>\n",
       "      <td>Age-adjusted, Spatially Smoothed, 3-year Avera...</td>\n",
       "      <td>~</td>\n",
       "      <td>Insufficient Data</td>\n",
       "      <td>Gender</td>\n",
       "      <td>Male</td>\n",
       "      <td>Race/Ethnicity</td>\n",
       "      <td>Black</td>\n",
       "      <td>T2</td>\n",
       "      <td>48335</td>\n",
       "      <td>(32.306972, -100.919542)</td>\n",
       "    </tr>\n",
       "    <tr>\n",
       "      <th>59073</th>\n",
       "      <td>2014</td>\n",
       "      <td>IA</td>\n",
       "      <td>Winnebago County</td>\n",
       "      <td>County</td>\n",
       "      <td>NVSS</td>\n",
       "      <td>Cardiovascular Diseases</td>\n",
       "      <td>Heart Disease Mortality</td>\n",
       "      <td>NaN</td>\n",
       "      <td>per 100,000 population</td>\n",
       "      <td>Age-adjusted, Spatially Smoothed, 3-year Avera...</td>\n",
       "      <td>~</td>\n",
       "      <td>Insufficient Data</td>\n",
       "      <td>Gender</td>\n",
       "      <td>Female</td>\n",
       "      <td>Race/Ethnicity</td>\n",
       "      <td>Asian and Pacific Islander</td>\n",
       "      <td>T2</td>\n",
       "      <td>19189</td>\n",
       "      <td>(43.375754, -93.73907)</td>\n",
       "    </tr>\n",
       "    <tr>\n",
       "      <th>59074</th>\n",
       "      <td>2014</td>\n",
       "      <td>WV</td>\n",
       "      <td>Lewis County</td>\n",
       "      <td>County</td>\n",
       "      <td>NVSS</td>\n",
       "      <td>Cardiovascular Diseases</td>\n",
       "      <td>Heart Disease Mortality</td>\n",
       "      <td>NaN</td>\n",
       "      <td>per 100,000 population</td>\n",
       "      <td>Age-adjusted, Spatially Smoothed, 3-year Avera...</td>\n",
       "      <td>~</td>\n",
       "      <td>Insufficient Data</td>\n",
       "      <td>Gender</td>\n",
       "      <td>Female</td>\n",
       "      <td>Race/Ethnicity</td>\n",
       "      <td>Asian and Pacific Islander</td>\n",
       "      <td>T2</td>\n",
       "      <td>54041</td>\n",
       "      <td>(38.995666, -80.505332)</td>\n",
       "    </tr>\n",
       "    <tr>\n",
       "      <th>59075</th>\n",
       "      <td>2014</td>\n",
       "      <td>KS</td>\n",
       "      <td>Republic County</td>\n",
       "      <td>County</td>\n",
       "      <td>NVSS</td>\n",
       "      <td>Cardiovascular Diseases</td>\n",
       "      <td>Heart Disease Mortality</td>\n",
       "      <td>NaN</td>\n",
       "      <td>per 100,000 population</td>\n",
       "      <td>Age-adjusted, Spatially Smoothed, 3-year Avera...</td>\n",
       "      <td>~</td>\n",
       "      <td>Insufficient Data</td>\n",
       "      <td>Gender</td>\n",
       "      <td>Female</td>\n",
       "      <td>Race/Ethnicity</td>\n",
       "      <td>Asian and Pacific Islander</td>\n",
       "      <td>T2</td>\n",
       "      <td>20157</td>\n",
       "      <td>(39.82459, -97.646162)</td>\n",
       "    </tr>\n",
       "  </tbody>\n",
       "</table>\n",
       "<p>59076 rows × 19 columns</p>\n",
       "</div>"
      ],
      "text/plain": [
       "       Year LocationAbbr      LocationDesc GeographicLevel DataSource  \\\n",
       "0      2014           AK    Aleutians East          County       NVSS   \n",
       "1      2014           AK    Aleutians West          County       NVSS   \n",
       "2      2014           AK         Anchorage          County       NVSS   \n",
       "3      2014           AK            Bethel          County       NVSS   \n",
       "4      2014           AK       Bristol Bay          County       NVSS   \n",
       "...     ...          ...               ...             ...        ...   \n",
       "59071  2014           TX    Lubbock County          County       NVSS   \n",
       "59072  2014           TX   Mitchell County          County       NVSS   \n",
       "59073  2014           IA  Winnebago County          County       NVSS   \n",
       "59074  2014           WV      Lewis County          County       NVSS   \n",
       "59075  2014           KS   Republic County          County       NVSS   \n",
       "\n",
       "                         Class                    Topic  Data_Value  \\\n",
       "0      Cardiovascular Diseases  Heart Disease Mortality       105.3   \n",
       "1      Cardiovascular Diseases  Heart Disease Mortality       211.9   \n",
       "2      Cardiovascular Diseases  Heart Disease Mortality       257.9   \n",
       "3      Cardiovascular Diseases  Heart Disease Mortality       351.6   \n",
       "4      Cardiovascular Diseases  Heart Disease Mortality         NaN   \n",
       "...                        ...                      ...         ...   \n",
       "59071  Cardiovascular Diseases  Heart Disease Mortality         NaN   \n",
       "59072  Cardiovascular Diseases  Heart Disease Mortality         NaN   \n",
       "59073  Cardiovascular Diseases  Heart Disease Mortality         NaN   \n",
       "59074  Cardiovascular Diseases  Heart Disease Mortality         NaN   \n",
       "59075  Cardiovascular Diseases  Heart Disease Mortality         NaN   \n",
       "\n",
       "              Data_Value_Unit  \\\n",
       "0      per 100,000 population   \n",
       "1      per 100,000 population   \n",
       "2      per 100,000 population   \n",
       "3      per 100,000 population   \n",
       "4      per 100,000 population   \n",
       "...                       ...   \n",
       "59071  per 100,000 population   \n",
       "59072  per 100,000 population   \n",
       "59073  per 100,000 population   \n",
       "59074  per 100,000 population   \n",
       "59075  per 100,000 population   \n",
       "\n",
       "                                         Data_Value_Type  \\\n",
       "0      Age-adjusted, Spatially Smoothed, 3-year Avera...   \n",
       "1      Age-adjusted, Spatially Smoothed, 3-year Avera...   \n",
       "2      Age-adjusted, Spatially Smoothed, 3-year Avera...   \n",
       "3      Age-adjusted, Spatially Smoothed, 3-year Avera...   \n",
       "4      Age-adjusted, Spatially Smoothed, 3-year Avera...   \n",
       "...                                                  ...   \n",
       "59071  Age-adjusted, Spatially Smoothed, 3-year Avera...   \n",
       "59072  Age-adjusted, Spatially Smoothed, 3-year Avera...   \n",
       "59073  Age-adjusted, Spatially Smoothed, 3-year Avera...   \n",
       "59074  Age-adjusted, Spatially Smoothed, 3-year Avera...   \n",
       "59075  Age-adjusted, Spatially Smoothed, 3-year Avera...   \n",
       "\n",
       "      Data_Value_Footnote_Symbol Data_Value_Footnote StratificationCategory1  \\\n",
       "0                            NaN                 NaN                  Gender   \n",
       "1                            NaN                 NaN                  Gender   \n",
       "2                            NaN                 NaN                  Gender   \n",
       "3                            NaN                 NaN                  Gender   \n",
       "4                              ~   Insufficient Data                  Gender   \n",
       "...                          ...                 ...                     ...   \n",
       "59071                          ~   Insufficient Data                  Gender   \n",
       "59072                          ~   Insufficient Data                  Gender   \n",
       "59073                          ~   Insufficient Data                  Gender   \n",
       "59074                          ~   Insufficient Data                  Gender   \n",
       "59075                          ~   Insufficient Data                  Gender   \n",
       "\n",
       "      Stratification1 StratificationCategory2             Stratification2  \\\n",
       "0             Overall          Race/Ethnicity                     Overall   \n",
       "1             Overall          Race/Ethnicity                     Overall   \n",
       "2             Overall          Race/Ethnicity                     Overall   \n",
       "3             Overall          Race/Ethnicity                     Overall   \n",
       "4             Overall          Race/Ethnicity                     Overall   \n",
       "...               ...                     ...                         ...   \n",
       "59071            Male          Race/Ethnicity  Asian and Pacific Islander   \n",
       "59072            Male          Race/Ethnicity                       Black   \n",
       "59073          Female          Race/Ethnicity  Asian and Pacific Islander   \n",
       "59074          Female          Race/Ethnicity  Asian and Pacific Islander   \n",
       "59075          Female          Race/Ethnicity  Asian and Pacific Islander   \n",
       "\n",
       "      TopicID  LocationID                Location 1  \n",
       "0          T2        2013  (55.440626, -161.962562)  \n",
       "1          T2        2016  (52.995403, -170.251538)  \n",
       "2          T2        2020  (61.159049, -149.103905)  \n",
       "3          T2        2050  (60.924483, -159.749655)  \n",
       "4          T2        2060  (58.754192, -156.694709)  \n",
       "...       ...         ...                       ...  \n",
       "59071      T2       48303  (33.613697, -101.820878)  \n",
       "59072      T2       48335  (32.306972, -100.919542)  \n",
       "59073      T2       19189    (43.375754, -93.73907)  \n",
       "59074      T2       54041   (38.995666, -80.505332)  \n",
       "59075      T2       20157    (39.82459, -97.646162)  \n",
       "\n",
       "[59076 rows x 19 columns]"
      ]
     },
     "execution_count": 3,
     "metadata": {},
     "output_type": "execute_result"
    }
   ],
   "source": [
    "HeartDisease"
   ]
  },
  {
   "cell_type": "markdown",
   "id": "d3c18afb",
   "metadata": {},
   "source": [
    "# Performing Exploratory Data Analysis"
   ]
  },
  {
   "cell_type": "code",
   "execution_count": 4,
   "id": "56240f17",
   "metadata": {},
   "outputs": [
    {
     "name": "stdout",
     "output_type": "stream",
     "text": [
      "<class 'pandas.core.frame.DataFrame'>\n",
      "RangeIndex: 59076 entries, 0 to 59075\n",
      "Data columns (total 19 columns):\n",
      " #   Column                      Non-Null Count  Dtype  \n",
      "---  ------                      --------------  -----  \n",
      " 0   Year                        59076 non-null  int64  \n",
      " 1   LocationAbbr                59076 non-null  object \n",
      " 2   LocationDesc                59076 non-null  object \n",
      " 3   GeographicLevel             59076 non-null  object \n",
      " 4   DataSource                  59076 non-null  object \n",
      " 5   Class                       59076 non-null  object \n",
      " 6   Topic                       59076 non-null  object \n",
      " 7   Data_Value                  32149 non-null  float64\n",
      " 8   Data_Value_Unit             59076 non-null  object \n",
      " 9   Data_Value_Type             59076 non-null  object \n",
      " 10  Data_Value_Footnote_Symbol  26927 non-null  object \n",
      " 11  Data_Value_Footnote         26927 non-null  object \n",
      " 12  StratificationCategory1     59076 non-null  object \n",
      " 13  Stratification1             59076 non-null  object \n",
      " 14  StratificationCategory2     59076 non-null  object \n",
      " 15  Stratification2             59076 non-null  object \n",
      " 16  TopicID                     59076 non-null  object \n",
      " 17  LocationID                  59076 non-null  int64  \n",
      " 18  Location 1                  59058 non-null  object \n",
      "dtypes: float64(1), int64(2), object(16)\n",
      "memory usage: 8.6+ MB\n"
     ]
    }
   ],
   "source": [
    "HeartDisease.info()"
   ]
  },
  {
   "cell_type": "markdown",
   "id": "032d5413",
   "metadata": {},
   "source": [
    "# Data cleaning process"
   ]
  },
  {
   "cell_type": "markdown",
   "id": "8160df82",
   "metadata": {},
   "source": [
    "### Checking for null values"
   ]
  },
  {
   "cell_type": "code",
   "execution_count": 5,
   "id": "c86f4f36",
   "metadata": {},
   "outputs": [
    {
     "data": {
      "text/plain": [
       "Year                              0\n",
       "LocationAbbr                      0\n",
       "LocationDesc                      0\n",
       "GeographicLevel                   0\n",
       "DataSource                        0\n",
       "Class                             0\n",
       "Topic                             0\n",
       "Data_Value                    26927\n",
       "Data_Value_Unit                   0\n",
       "Data_Value_Type                   0\n",
       "Data_Value_Footnote_Symbol    32149\n",
       "Data_Value_Footnote           32149\n",
       "StratificationCategory1           0\n",
       "Stratification1                   0\n",
       "StratificationCategory2           0\n",
       "Stratification2                   0\n",
       "TopicID                           0\n",
       "LocationID                        0\n",
       "Location 1                       18\n",
       "dtype: int64"
      ]
     },
     "execution_count": 5,
     "metadata": {},
     "output_type": "execute_result"
    }
   ],
   "source": [
    "HeartDisease.isna().sum()"
   ]
  },
  {
   "cell_type": "markdown",
   "id": "b6dcbe61",
   "metadata": {},
   "source": [
    "### Removal of Null values"
   ]
  },
  {
   "cell_type": "code",
   "execution_count": 6,
   "id": "06336ba6",
   "metadata": {},
   "outputs": [],
   "source": [
    "HeartDisease = HeartDisease.dropna(axis=1)"
   ]
  },
  {
   "cell_type": "code",
   "execution_count": 7,
   "id": "f2282fd5",
   "metadata": {},
   "outputs": [
    {
     "data": {
      "text/html": [
       "<div>\n",
       "<style scoped>\n",
       "    .dataframe tbody tr th:only-of-type {\n",
       "        vertical-align: middle;\n",
       "    }\n",
       "\n",
       "    .dataframe tbody tr th {\n",
       "        vertical-align: top;\n",
       "    }\n",
       "\n",
       "    .dataframe thead th {\n",
       "        text-align: right;\n",
       "    }\n",
       "</style>\n",
       "<table border=\"1\" class=\"dataframe\">\n",
       "  <thead>\n",
       "    <tr style=\"text-align: right;\">\n",
       "      <th></th>\n",
       "      <th>Year</th>\n",
       "      <th>LocationAbbr</th>\n",
       "      <th>LocationDesc</th>\n",
       "      <th>GeographicLevel</th>\n",
       "      <th>DataSource</th>\n",
       "      <th>Class</th>\n",
       "      <th>Topic</th>\n",
       "      <th>Data_Value_Unit</th>\n",
       "      <th>Data_Value_Type</th>\n",
       "      <th>StratificationCategory1</th>\n",
       "      <th>Stratification1</th>\n",
       "      <th>StratificationCategory2</th>\n",
       "      <th>Stratification2</th>\n",
       "      <th>TopicID</th>\n",
       "      <th>LocationID</th>\n",
       "    </tr>\n",
       "  </thead>\n",
       "  <tbody>\n",
       "    <tr>\n",
       "      <th>0</th>\n",
       "      <td>2014</td>\n",
       "      <td>AK</td>\n",
       "      <td>Aleutians East</td>\n",
       "      <td>County</td>\n",
       "      <td>NVSS</td>\n",
       "      <td>Cardiovascular Diseases</td>\n",
       "      <td>Heart Disease Mortality</td>\n",
       "      <td>per 100,000 population</td>\n",
       "      <td>Age-adjusted, Spatially Smoothed, 3-year Avera...</td>\n",
       "      <td>Gender</td>\n",
       "      <td>Overall</td>\n",
       "      <td>Race/Ethnicity</td>\n",
       "      <td>Overall</td>\n",
       "      <td>T2</td>\n",
       "      <td>2013</td>\n",
       "    </tr>\n",
       "    <tr>\n",
       "      <th>1</th>\n",
       "      <td>2014</td>\n",
       "      <td>AK</td>\n",
       "      <td>Aleutians West</td>\n",
       "      <td>County</td>\n",
       "      <td>NVSS</td>\n",
       "      <td>Cardiovascular Diseases</td>\n",
       "      <td>Heart Disease Mortality</td>\n",
       "      <td>per 100,000 population</td>\n",
       "      <td>Age-adjusted, Spatially Smoothed, 3-year Avera...</td>\n",
       "      <td>Gender</td>\n",
       "      <td>Overall</td>\n",
       "      <td>Race/Ethnicity</td>\n",
       "      <td>Overall</td>\n",
       "      <td>T2</td>\n",
       "      <td>2016</td>\n",
       "    </tr>\n",
       "    <tr>\n",
       "      <th>2</th>\n",
       "      <td>2014</td>\n",
       "      <td>AK</td>\n",
       "      <td>Anchorage</td>\n",
       "      <td>County</td>\n",
       "      <td>NVSS</td>\n",
       "      <td>Cardiovascular Diseases</td>\n",
       "      <td>Heart Disease Mortality</td>\n",
       "      <td>per 100,000 population</td>\n",
       "      <td>Age-adjusted, Spatially Smoothed, 3-year Avera...</td>\n",
       "      <td>Gender</td>\n",
       "      <td>Overall</td>\n",
       "      <td>Race/Ethnicity</td>\n",
       "      <td>Overall</td>\n",
       "      <td>T2</td>\n",
       "      <td>2020</td>\n",
       "    </tr>\n",
       "    <tr>\n",
       "      <th>3</th>\n",
       "      <td>2014</td>\n",
       "      <td>AK</td>\n",
       "      <td>Bethel</td>\n",
       "      <td>County</td>\n",
       "      <td>NVSS</td>\n",
       "      <td>Cardiovascular Diseases</td>\n",
       "      <td>Heart Disease Mortality</td>\n",
       "      <td>per 100,000 population</td>\n",
       "      <td>Age-adjusted, Spatially Smoothed, 3-year Avera...</td>\n",
       "      <td>Gender</td>\n",
       "      <td>Overall</td>\n",
       "      <td>Race/Ethnicity</td>\n",
       "      <td>Overall</td>\n",
       "      <td>T2</td>\n",
       "      <td>2050</td>\n",
       "    </tr>\n",
       "    <tr>\n",
       "      <th>4</th>\n",
       "      <td>2014</td>\n",
       "      <td>AK</td>\n",
       "      <td>Bristol Bay</td>\n",
       "      <td>County</td>\n",
       "      <td>NVSS</td>\n",
       "      <td>Cardiovascular Diseases</td>\n",
       "      <td>Heart Disease Mortality</td>\n",
       "      <td>per 100,000 population</td>\n",
       "      <td>Age-adjusted, Spatially Smoothed, 3-year Avera...</td>\n",
       "      <td>Gender</td>\n",
       "      <td>Overall</td>\n",
       "      <td>Race/Ethnicity</td>\n",
       "      <td>Overall</td>\n",
       "      <td>T2</td>\n",
       "      <td>2060</td>\n",
       "    </tr>\n",
       "    <tr>\n",
       "      <th>...</th>\n",
       "      <td>...</td>\n",
       "      <td>...</td>\n",
       "      <td>...</td>\n",
       "      <td>...</td>\n",
       "      <td>...</td>\n",
       "      <td>...</td>\n",
       "      <td>...</td>\n",
       "      <td>...</td>\n",
       "      <td>...</td>\n",
       "      <td>...</td>\n",
       "      <td>...</td>\n",
       "      <td>...</td>\n",
       "      <td>...</td>\n",
       "      <td>...</td>\n",
       "      <td>...</td>\n",
       "    </tr>\n",
       "    <tr>\n",
       "      <th>59071</th>\n",
       "      <td>2014</td>\n",
       "      <td>TX</td>\n",
       "      <td>Lubbock County</td>\n",
       "      <td>County</td>\n",
       "      <td>NVSS</td>\n",
       "      <td>Cardiovascular Diseases</td>\n",
       "      <td>Heart Disease Mortality</td>\n",
       "      <td>per 100,000 population</td>\n",
       "      <td>Age-adjusted, Spatially Smoothed, 3-year Avera...</td>\n",
       "      <td>Gender</td>\n",
       "      <td>Male</td>\n",
       "      <td>Race/Ethnicity</td>\n",
       "      <td>Asian and Pacific Islander</td>\n",
       "      <td>T2</td>\n",
       "      <td>48303</td>\n",
       "    </tr>\n",
       "    <tr>\n",
       "      <th>59072</th>\n",
       "      <td>2014</td>\n",
       "      <td>TX</td>\n",
       "      <td>Mitchell County</td>\n",
       "      <td>County</td>\n",
       "      <td>NVSS</td>\n",
       "      <td>Cardiovascular Diseases</td>\n",
       "      <td>Heart Disease Mortality</td>\n",
       "      <td>per 100,000 population</td>\n",
       "      <td>Age-adjusted, Spatially Smoothed, 3-year Avera...</td>\n",
       "      <td>Gender</td>\n",
       "      <td>Male</td>\n",
       "      <td>Race/Ethnicity</td>\n",
       "      <td>Black</td>\n",
       "      <td>T2</td>\n",
       "      <td>48335</td>\n",
       "    </tr>\n",
       "    <tr>\n",
       "      <th>59073</th>\n",
       "      <td>2014</td>\n",
       "      <td>IA</td>\n",
       "      <td>Winnebago County</td>\n",
       "      <td>County</td>\n",
       "      <td>NVSS</td>\n",
       "      <td>Cardiovascular Diseases</td>\n",
       "      <td>Heart Disease Mortality</td>\n",
       "      <td>per 100,000 population</td>\n",
       "      <td>Age-adjusted, Spatially Smoothed, 3-year Avera...</td>\n",
       "      <td>Gender</td>\n",
       "      <td>Female</td>\n",
       "      <td>Race/Ethnicity</td>\n",
       "      <td>Asian and Pacific Islander</td>\n",
       "      <td>T2</td>\n",
       "      <td>19189</td>\n",
       "    </tr>\n",
       "    <tr>\n",
       "      <th>59074</th>\n",
       "      <td>2014</td>\n",
       "      <td>WV</td>\n",
       "      <td>Lewis County</td>\n",
       "      <td>County</td>\n",
       "      <td>NVSS</td>\n",
       "      <td>Cardiovascular Diseases</td>\n",
       "      <td>Heart Disease Mortality</td>\n",
       "      <td>per 100,000 population</td>\n",
       "      <td>Age-adjusted, Spatially Smoothed, 3-year Avera...</td>\n",
       "      <td>Gender</td>\n",
       "      <td>Female</td>\n",
       "      <td>Race/Ethnicity</td>\n",
       "      <td>Asian and Pacific Islander</td>\n",
       "      <td>T2</td>\n",
       "      <td>54041</td>\n",
       "    </tr>\n",
       "    <tr>\n",
       "      <th>59075</th>\n",
       "      <td>2014</td>\n",
       "      <td>KS</td>\n",
       "      <td>Republic County</td>\n",
       "      <td>County</td>\n",
       "      <td>NVSS</td>\n",
       "      <td>Cardiovascular Diseases</td>\n",
       "      <td>Heart Disease Mortality</td>\n",
       "      <td>per 100,000 population</td>\n",
       "      <td>Age-adjusted, Spatially Smoothed, 3-year Avera...</td>\n",
       "      <td>Gender</td>\n",
       "      <td>Female</td>\n",
       "      <td>Race/Ethnicity</td>\n",
       "      <td>Asian and Pacific Islander</td>\n",
       "      <td>T2</td>\n",
       "      <td>20157</td>\n",
       "    </tr>\n",
       "  </tbody>\n",
       "</table>\n",
       "<p>59076 rows × 15 columns</p>\n",
       "</div>"
      ],
      "text/plain": [
       "       Year LocationAbbr      LocationDesc GeographicLevel DataSource  \\\n",
       "0      2014           AK    Aleutians East          County       NVSS   \n",
       "1      2014           AK    Aleutians West          County       NVSS   \n",
       "2      2014           AK         Anchorage          County       NVSS   \n",
       "3      2014           AK            Bethel          County       NVSS   \n",
       "4      2014           AK       Bristol Bay          County       NVSS   \n",
       "...     ...          ...               ...             ...        ...   \n",
       "59071  2014           TX    Lubbock County          County       NVSS   \n",
       "59072  2014           TX   Mitchell County          County       NVSS   \n",
       "59073  2014           IA  Winnebago County          County       NVSS   \n",
       "59074  2014           WV      Lewis County          County       NVSS   \n",
       "59075  2014           KS   Republic County          County       NVSS   \n",
       "\n",
       "                         Class                    Topic  \\\n",
       "0      Cardiovascular Diseases  Heart Disease Mortality   \n",
       "1      Cardiovascular Diseases  Heart Disease Mortality   \n",
       "2      Cardiovascular Diseases  Heart Disease Mortality   \n",
       "3      Cardiovascular Diseases  Heart Disease Mortality   \n",
       "4      Cardiovascular Diseases  Heart Disease Mortality   \n",
       "...                        ...                      ...   \n",
       "59071  Cardiovascular Diseases  Heart Disease Mortality   \n",
       "59072  Cardiovascular Diseases  Heart Disease Mortality   \n",
       "59073  Cardiovascular Diseases  Heart Disease Mortality   \n",
       "59074  Cardiovascular Diseases  Heart Disease Mortality   \n",
       "59075  Cardiovascular Diseases  Heart Disease Mortality   \n",
       "\n",
       "              Data_Value_Unit  \\\n",
       "0      per 100,000 population   \n",
       "1      per 100,000 population   \n",
       "2      per 100,000 population   \n",
       "3      per 100,000 population   \n",
       "4      per 100,000 population   \n",
       "...                       ...   \n",
       "59071  per 100,000 population   \n",
       "59072  per 100,000 population   \n",
       "59073  per 100,000 population   \n",
       "59074  per 100,000 population   \n",
       "59075  per 100,000 population   \n",
       "\n",
       "                                         Data_Value_Type  \\\n",
       "0      Age-adjusted, Spatially Smoothed, 3-year Avera...   \n",
       "1      Age-adjusted, Spatially Smoothed, 3-year Avera...   \n",
       "2      Age-adjusted, Spatially Smoothed, 3-year Avera...   \n",
       "3      Age-adjusted, Spatially Smoothed, 3-year Avera...   \n",
       "4      Age-adjusted, Spatially Smoothed, 3-year Avera...   \n",
       "...                                                  ...   \n",
       "59071  Age-adjusted, Spatially Smoothed, 3-year Avera...   \n",
       "59072  Age-adjusted, Spatially Smoothed, 3-year Avera...   \n",
       "59073  Age-adjusted, Spatially Smoothed, 3-year Avera...   \n",
       "59074  Age-adjusted, Spatially Smoothed, 3-year Avera...   \n",
       "59075  Age-adjusted, Spatially Smoothed, 3-year Avera...   \n",
       "\n",
       "      StratificationCategory1 Stratification1 StratificationCategory2  \\\n",
       "0                      Gender         Overall          Race/Ethnicity   \n",
       "1                      Gender         Overall          Race/Ethnicity   \n",
       "2                      Gender         Overall          Race/Ethnicity   \n",
       "3                      Gender         Overall          Race/Ethnicity   \n",
       "4                      Gender         Overall          Race/Ethnicity   \n",
       "...                       ...             ...                     ...   \n",
       "59071                  Gender            Male          Race/Ethnicity   \n",
       "59072                  Gender            Male          Race/Ethnicity   \n",
       "59073                  Gender          Female          Race/Ethnicity   \n",
       "59074                  Gender          Female          Race/Ethnicity   \n",
       "59075                  Gender          Female          Race/Ethnicity   \n",
       "\n",
       "                  Stratification2 TopicID  LocationID  \n",
       "0                         Overall      T2        2013  \n",
       "1                         Overall      T2        2016  \n",
       "2                         Overall      T2        2020  \n",
       "3                         Overall      T2        2050  \n",
       "4                         Overall      T2        2060  \n",
       "...                           ...     ...         ...  \n",
       "59071  Asian and Pacific Islander      T2       48303  \n",
       "59072                       Black      T2       48335  \n",
       "59073  Asian and Pacific Islander      T2       19189  \n",
       "59074  Asian and Pacific Islander      T2       54041  \n",
       "59075  Asian and Pacific Islander      T2       20157  \n",
       "\n",
       "[59076 rows x 15 columns]"
      ]
     },
     "execution_count": 7,
     "metadata": {},
     "output_type": "execute_result"
    }
   ],
   "source": [
    "HeartDisease"
   ]
  },
  {
   "cell_type": "code",
   "execution_count": 8,
   "id": "fe9e4d89",
   "metadata": {},
   "outputs": [
    {
     "data": {
      "text/plain": [
       "0"
      ]
     },
     "execution_count": 8,
     "metadata": {},
     "output_type": "execute_result"
    }
   ],
   "source": [
    "HeartDisease.duplicated().sum()"
   ]
  },
  {
   "cell_type": "code",
   "execution_count": 9,
   "id": "be725a12",
   "metadata": {},
   "outputs": [
    {
     "data": {
      "text/plain": [
       "Year                        int64\n",
       "LocationAbbr               object\n",
       "LocationDesc               object\n",
       "GeographicLevel            object\n",
       "DataSource                 object\n",
       "Class                      object\n",
       "Topic                      object\n",
       "Data_Value_Unit            object\n",
       "Data_Value_Type            object\n",
       "StratificationCategory1    object\n",
       "Stratification1            object\n",
       "StratificationCategory2    object\n",
       "Stratification2            object\n",
       "TopicID                    object\n",
       "LocationID                  int64\n",
       "dtype: object"
      ]
     },
     "execution_count": 9,
     "metadata": {},
     "output_type": "execute_result"
    }
   ],
   "source": [
    "HeartDisease.dtypes"
   ]
  },
  {
   "cell_type": "markdown",
   "id": "dcb440c7",
   "metadata": {},
   "source": [
    "# Analysis and Visualisation"
   ]
  },
  {
   "cell_type": "code",
   "execution_count": 10,
   "id": "8504258c",
   "metadata": {},
   "outputs": [
    {
     "data": {
      "image/png": "[encoded data removed]",
      "text/plain": [
       "<Figure size 864x720 with 2 Axes>"
      ]
     },
     "metadata": {
      "needs_background": "light"
     },
     "output_type": "display_data"
    }
   ],
   "source": [
    "HeartDisease.hist(figsize=(12,10),color='tan')\n",
    "plt.show()"
   ]
  },
  {
   "cell_type": "code",
   "execution_count": 11,
   "id": "0f3496b2",
   "metadata": {},
   "outputs": [
    {
     "data": {
      "text/plain": [
       "<seaborn.axisgrid.PairGrid at 0x24807f2bfa0>"
      ]
     },
     "execution_count": 11,
     "metadata": {},
     "output_type": "execute_result"
    },
    {
     "data": {
      "image/png": "[encoded data removed]",
      "text/plain": [
       "<Figure size 360x360 with 6 Axes>"
      ]
     },
     "metadata": {
      "needs_background": "light"
     },
     "output_type": "display_data"
    }
   ],
   "source": [
    "sns.pairplot(HeartDisease)"
   ]
  },
  {
   "cell_type": "code",
   "execution_count": 12,
   "id": "df796e65",
   "metadata": {},
   "outputs": [
    {
     "data": {
      "image/png": "[encoded data removed]",
      "text/plain": [
       "<Figure size 720x432 with 1 Axes>"
      ]
     },
     "metadata": {
      "needs_background": "light"
     },
     "output_type": "display_data"
    }
   ],
   "source": [
    "plt.figure(figsize=(10, 6))\n",
    "sns.countplot(y='GeographicLevel', data=HeartDisease)\n",
    "plt.xlabel('Count')\n",
    "plt.ylabel('CyberattackType')\n",
    "plt.show()"
   ]
  },
  {
   "cell_type": "code",
   "execution_count": 13,
   "id": "889be4a1",
   "metadata": {},
   "outputs": [
    {
     "data": {
      "image/png": "[encoded data removed]",
      "text/plain": [
       "<Figure size 720x432 with 1 Axes>"
      ]
     },
     "metadata": {
      "needs_background": "light"
     },
     "output_type": "display_data"
    }
   ],
   "source": [
    "plt.figure(figsize=(10, 6))\n",
    "sns.countplot(x='Stratification1', data=HeartDisease)\n",
    "plt.ylabel('Count')\n",
    "plt.xlabel('Stratification1')\n",
    "plt.show()"
   ]
  },
  {
   "cell_type": "code",
   "execution_count": 14,
   "id": "38e2da7f",
   "metadata": {},
   "outputs": [
    {
     "data": {
      "image/png": "[encoded data removed]",
      "text/plain": [
       "<Figure size 720x432 with 1 Axes>"
      ]
     },
     "metadata": {
      "needs_background": "light"
     },
     "output_type": "display_data"
    }
   ],
   "source": [
    "plt.figure(figsize=(10, 6))\n",
    "sns.countplot(y='Stratification2', data=HeartDisease)\n",
    "plt.xlabel('Count')\n",
    "plt.ylabel('Stratification2')\n",
    "plt.show()"
   ]
  },
  {
   "cell_type": "markdown",
   "id": "11fa60c5",
   "metadata": {},
   "source": [
    "# Performing Correlation analysis"
   ]
  },
  {
   "cell_type": "code",
   "execution_count": 23,
   "id": "04d3b1bc",
   "metadata": {},
   "outputs": [
    {
     "data": {
      "image/png": "[encoded data removed]",
      "text/plain": [
       "<Figure size 1152x720 with 2 Axes>"
      ]
     },
     "metadata": {
      "needs_background": "light"
     },
     "output_type": "display_data"
    }
   ],
   "source": [
    "cor = HeartDisease.corr()\n",
    "plt.figure(figsize=(16,10))\n",
    "sns.heatmap(cor, annot= True, linewidths= 0.5)\n",
    "plt.show()"
   ]
  },
  {
   "cell_type": "code",
   "execution_count": 26,
   "id": "57e10402",
   "metadata": {},
   "outputs": [],
   "source": [
    "HeartDisease[['LocationAbbr', 'GeographicLevel', 'DataSource', 'Class', 'Topic', 'StratificationCategory1', 'Stratification1', 'Stratification2', 'TopicID']] = HeartDisease[['LocationAbbr', 'GeographicLevel', 'DataSource', 'Class', 'Topic', 'StratificationCategory1', 'Stratification1', 'Stratification2', 'TopicID']].apply(lambda col:pd.Categorical(col).codes)"
   ]
  },
  {
   "cell_type": "markdown",
   "id": "c4491b32",
   "metadata": {},
   "source": [
    "# Initialising Machine Learning process"
   ]
  },
  {
   "cell_type": "code",
   "execution_count": 27,
   "id": "80994f3a",
   "metadata": {},
   "outputs": [],
   "source": [
    "X = HeartDisease.drop(['Data_Value_Unit', 'Data_Value_Type', 'Class'], axis=1)\n",
    "y = HeartDisease['Class']\n",
    "\n",
    "X_train, X_test, y_train, y_test = train_test_split(X, y, test_size=0.3, random_state=42)\n"
   ]
  },
  {
   "cell_type": "code",
   "execution_count": 20,
   "id": "0257bc56",
   "metadata": {},
   "outputs": [
    {
     "data": {
      "text/plain": [
       "Index(['Year', 'LocationAbbr', 'LocationDesc', 'GeographicLevel', 'DataSource',\n",
       "       'Class', 'Topic', 'Data_Value_Unit', 'Data_Value_Type',\n",
       "       'StratificationCategory1', 'Stratification1', 'StratificationCategory2',\n",
       "       'Stratification2', 'TopicID', 'LocationID'],\n",
       "      dtype='object')"
      ]
     },
     "execution_count": 20,
     "metadata": {},
     "output_type": "execute_result"
    }
   ],
   "source": [
    "HeartDisease.columns"
   ]
  },
  {
   "cell_type": "code",
   "execution_count": 24,
   "id": "cec1a52d",
   "metadata": {},
   "outputs": [
    {
     "data": {
      "text/plain": [
       "Year                        int64\n",
       "LocationAbbr                 int8\n",
       "LocationDesc                int16\n",
       "GeographicLevel              int8\n",
       "DataSource                   int8\n",
       "Class                        int8\n",
       "Topic                        int8\n",
       "Data_Value_Unit            object\n",
       "Data_Value_Type            object\n",
       "StratificationCategory1      int8\n",
       "Stratification1              int8\n",
       "StratificationCategory2      int8\n",
       "Stratification2              int8\n",
       "TopicID                      int8\n",
       "LocationID                  int64\n",
       "dtype: object"
      ]
     },
     "execution_count": 24,
     "metadata": {},
     "output_type": "execute_result"
    }
   ],
   "source": [
    "HeartDisease.dtypes"
   ]
  },
  {
   "cell_type": "markdown",
   "id": "cbc331e0",
   "metadata": {},
   "source": [
    "# Implementing Decision Tree Classifier"
   ]
  },
  {
   "cell_type": "code",
   "execution_count": 28,
   "id": "53307209",
   "metadata": {},
   "outputs": [
    {
     "data": {
      "text/plain": [
       "DecisionTreeClassifier(random_state=42)"
      ]
     },
     "execution_count": 28,
     "metadata": {},
     "output_type": "execute_result"
    }
   ],
   "source": [
    "dt_model = DecisionTreeClassifier(random_state=42)\n",
    "dt_model.fit(X_train, y_train)"
   ]
  },
  {
   "cell_type": "code",
   "execution_count": 29,
   "id": "32503eca",
   "metadata": {},
   "outputs": [
    {
     "name": "stdout",
     "output_type": "stream",
     "text": [
      "Decision Tree Classifier Accuracy: 1.0\n",
      "              precision    recall  f1-score   support\n",
      "\n",
      "           0       1.00      1.00      1.00     17723\n",
      "\n",
      "    accuracy                           1.00     17723\n",
      "   macro avg       1.00      1.00      1.00     17723\n",
      "weighted avg       1.00      1.00      1.00     17723\n",
      "\n"
     ]
    }
   ],
   "source": [
    "dt_predictions = dt_model.predict(X_test)\n",
    "print(\"Decision Tree Classifier Accuracy:\", accuracy_score(y_test, dt_predictions))\n",
    "print(classification_report(y_test, dt_predictions))"
   ]
  },
  {
   "cell_type": "code",
   "execution_count": 30,
   "id": "65484d27",
   "metadata": {},
   "outputs": [
    {
     "data": {
      "image/png": "[encoded data removed]",
      "text/plain": [
       "<Figure size 432x288 with 2 Axes>"
      ]
     },
     "metadata": {
      "needs_background": "light"
     },
     "output_type": "display_data"
    }
   ],
   "source": [
    "cm = confusion_matrix(y_test, dt_predictions)\n",
    "\n",
    "sns.heatmap(cm, annot=True, fmt='d', cmap=['tan','navajowhite'])\n",
    "plt.title('Confusion Matrix')\n",
    "plt.xlabel('Predicted')\n",
    "plt.ylabel('True')\n",
    "\n",
    "plt.show()"
   ]
  },
  {
   "cell_type": "markdown",
   "id": "30d6ddd2",
   "metadata": {},
   "source": [
    "# Implementing Gaussian NB"
   ]
  },
  {
   "cell_type": "code",
   "execution_count": 33,
   "id": "6a691265",
   "metadata": {},
   "outputs": [
    {
     "data": {
      "text/plain": [
       "GaussianNB()"
      ]
     },
     "execution_count": 33,
     "metadata": {},
     "output_type": "execute_result"
    }
   ],
   "source": [
    "nb_model = GaussianNB()\n",
    "nb_model.fit(X_train, y_train)"
   ]
  },
  {
   "cell_type": "code",
   "execution_count": 34,
   "id": "cde29fd1",
   "metadata": {},
   "outputs": [
    {
     "name": "stdout",
     "output_type": "stream",
     "text": [
      "Gaussian NB Classifier Accuracy: 1.0\n",
      "              precision    recall  f1-score   support\n",
      "\n",
      "           0       1.00      1.00      1.00     17723\n",
      "\n",
      "    accuracy                           1.00     17723\n",
      "   macro avg       1.00      1.00      1.00     17723\n",
      "weighted avg       1.00      1.00      1.00     17723\n",
      "\n"
     ]
    }
   ],
   "source": [
    "nb_predictions = nb_model.predict(X_test)\n",
    "print(\"Gaussian NB Classifier Accuracy:\", accuracy_score(y_test, nb_predictions))\n",
    "print(classification_report(y_test, nb_predictions))"
   ]
  },
  {
   "cell_type": "code",
   "execution_count": 35,
   "id": "917fbb93",
   "metadata": {},
   "outputs": [
    {
     "data": {
      "image/png": "[encoded data removed]",
      "text/plain": [
       "<Figure size 432x288 with 2 Axes>"
      ]
     },
     "metadata": {
      "needs_background": "light"
     },
     "output_type": "display_data"
    }
   ],
   "source": [
    "cm1 = confusion_matrix(y_test, nb_predictions)\n",
    "\n",
    "sns.heatmap(cm1, annot=True, fmt='d', cmap= 'Set2')\n",
    "plt.title('Confusion Matrix')\n",
    "plt.xlabel('Predicted')\n",
    "plt.ylabel('True')\n",
    "\n",
    "plt.show()"
   ]
  },
  {
   "cell_type": "code",
   "execution_count": null,
   "id": "06421dc1",
   "metadata": {},
   "outputs": [],
   "source": []
  }
 ],
 "metadata": {
  "kernelspec": {
   "display_name": "Python 3 (ipykernel)",
   "language": "python",
   "name": "python3"
  },
  "language_info": {
   "codemirror_mode": {
    "name": "ipython",
    "version": 3
   },
   "file_extension": ".py",
   "mimetype": "text/x-python",
   "name": "python",
   "nbconvert_exporter": "python",
   "pygments_lexer": "ipython3",
   "version": "3.11.5"
  }
 },
 "nbformat": 4,
 "nbformat_minor": 5
}
